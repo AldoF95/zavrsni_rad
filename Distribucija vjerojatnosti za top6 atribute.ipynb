{
 "cells": [
  {
   "cell_type": "code",
   "execution_count": null,
   "metadata": {},
   "outputs": [],
   "source": [
    "import pandas as pd\n",
    "from datetime import datetime as dt\n",
    "import matplotlib.pyplot as plt\n",
    "import seaborn as sns\n",
    "%matplotlib inline"
   ]
  },
  {
   "cell_type": "code",
   "execution_count": null,
   "metadata": {
    "scrolled": true
   },
   "outputs": [],
   "source": [
    "n_cols = range(1, 65)\n",
    "data = pd.read_csv('C:\\\\Users\\\\Aldo\\\\Documents\\\\fax\\\\Semestar 6\\\\Praksa\\\\final_dataset\\\\dataset.csv', usecols= n_cols)"
   ]
  },
  {
   "cell_type": "code",
   "execution_count": null,
   "metadata": {},
   "outputs": [],
   "source": [
    "data['KANAL']=0.0"
   ]
  },
  {
   "cell_type": "code",
   "execution_count": null,
   "metadata": {},
   "outputs": [],
   "source": [
    "data['KANAL'][data['KANAL_A']==1]=1\n",
    "data['KANAL'][data['KANAL_B']==1]=2\n",
    "data['KANAL'][data['KANAL_C']==1]=3\n",
    "data['KANAL'][data['KANAL_G']==1]=4\n",
    "data['KANAL'][data['KANAL_I']==1]=5\n",
    "data['KANAL'][data['KANAL_J']==1]=6\n",
    "data['KANAL'][data['KANAL_M']==1]=7\n",
    "data['KANAL'][data['KANAL_P']==1]=8"
   ]
  },
  {
   "cell_type": "code",
   "execution_count": null,
   "metadata": {},
   "outputs": [],
   "source": [
    "data['STAT_REZ']=0.0"
   ]
  },
  {
   "cell_type": "code",
   "execution_count": null,
   "metadata": {},
   "outputs": [],
   "source": [
    "data['STAT_REZ'][data['STAT_REZERVACIJE_A']==1]=1\n",
    "data['STAT_REZ'][data['STAT_REZERVACIJE_D']==1]=2\n",
    "data['STAT_REZ'][data['STAT_REZERVACIJE_EF']==1]=3\n",
    "data['STAT_REZ'][data['STAT_REZERVACIJE_EN']==1]=4\n",
    "data['STAT_REZ'][data['STAT_REZERVACIJE_EO']==1]=5\n",
    "data['STAT_REZ'][data['STAT_REZERVACIJE_EP']==1]=6\n",
    "data['STAT_REZ'][data['STAT_REZERVACIJE_F']==1]=7\n",
    "data['STAT_REZ'][data['STAT_REZERVACIJE_N']==1]=8\n",
    "data['STAT_REZ'][data['STAT_REZERVACIJE_O']==1]=9\n",
    "data['STAT_REZ'][data['STAT_REZERVACIJE_P']==1]=10\n",
    "data['STAT_REZ'][data['STAT_REZERVACIJE_PO']==1]=11"
   ]
  },
  {
   "cell_type": "code",
   "execution_count": null,
   "metadata": {},
   "outputs": [],
   "source": [
    "from scipy.stats import probplot"
   ]
  },
  {
   "cell_type": "code",
   "execution_count": null,
   "metadata": {},
   "outputs": [],
   "source": [
    "cols = ['KANAL','STAT_REZ','OBAVEZA_AKONTACIJE_DA', 'COS_MONTH_VRIJEME_KREIRANJA', 'SIN_WEEKDAY_VRIJEME_KREIRANJA']\n",
    "titles = ['CHANNEL', 'RESERVATION STATUS', 'DEPOSIT', 'COS MONTH OF TIME CREATED', 'SIN WEEKDAY OF TIME CREATED']\n",
    "fig = plt.figure(figsize=(15,20))\n",
    "\n",
    "counter = 1\n",
    "#plotanje distribucija vjerojatnosti za najvaznije atribute\n",
    "for c in cols:\n",
    "    v = data[c].unique()\n",
    "    v.sort()\n",
    "    prob = []\n",
    "    counter2 = 1\n",
    "    for x in v:\n",
    "        r = data[c][data[c]==x].count()\n",
    "        p = r/data[c].count()\n",
    "        prob.append([p, x, r, counter2])\n",
    "        counter2+=1\n",
    "    axs = fig.add_subplot(320+counter)\n",
    "    df_prob = pd.DataFrame(prob, columns=['prob', 'value', 'freq', 'ticks'])\n",
    "    df_prob = df_prob.sort_values('value')\n",
    "    a = axs.stem(df_prob['ticks'], df_prob['prob'], fontsize=12)\n",
    "    plt.xlabel('VALUE', fontsize=12)\n",
    "    plt.ylabel('PROBABILITY', fontsize=12)\n",
    "    plt.xticks(df_prob['ticks'], df_prob['value'].round(3))\n",
    "    plt.title(titles[counter-1], fontsize=14)\n",
    "    df_prob = df_prob.iloc[0:0]\n",
    "    counter +=1\n",
    "axs = fig.add_subplot(326)  \n",
    "a = data['DELTA_REZERVACIJA'].plot.kde(ax=axs)\n",
    "a.set_title('DAYS BETWEEN RESERVATION AND CHECK-IN', fontsize=14)\n",
    "a.set_xlabel('VALUE', fontsize=12)\n",
    "a.set_ylabel('DENSITY', fontsize=12)\n",
    "a.set_xlim(-50, 700)"
   ]
  },
  {
   "cell_type": "code",
   "execution_count": null,
   "metadata": {},
   "outputs": [],
   "source": [
    "fig.savefig('C:\\\\Users\\\\Aldo\\\\Documents\\\\fax\\\\Semestar 6\\\\Praksa\\\\feature_distributions_top_six.pdf')"
   ]
  }
 ],
 "metadata": {
  "kernelspec": {
   "display_name": "Python 3",
   "language": "python",
   "name": "python3"
  },
  "language_info": {
   "codemirror_mode": {
    "name": "ipython",
    "version": 3
   },
   "file_extension": ".py",
   "mimetype": "text/x-python",
   "name": "python",
   "nbconvert_exporter": "python",
   "pygments_lexer": "ipython3",
   "version": "3.6.5"
  }
 },
 "nbformat": 4,
 "nbformat_minor": 2
}
