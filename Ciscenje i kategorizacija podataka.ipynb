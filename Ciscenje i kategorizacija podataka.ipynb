{
 "cells": [
  {
   "cell_type": "code",
   "execution_count": null,
   "metadata": {},
   "outputs": [],
   "source": [
    "import pandas as pd\n",
    "import numpy as np\n",
    "from datetime import datetime as dt\n",
    "import category_encoders as ce\n",
    "import math"
   ]
  },
  {
   "cell_type": "code",
   "execution_count": null,
   "metadata": {},
   "outputs": [],
   "source": [
    "#ucitavanje izvornih podataka\n",
    "cols = range(1,27)\n",
    "data = pd.read_csv('C:\\\\Users\\\\Aldo\\\\Documents\\\\fax\\\\Semestar 6\\\\Praksa\\\\sample_all.csv', usecols=cols)\n",
    "data.info(verbose=True)"
   ]
  },
  {
   "cell_type": "code",
   "execution_count": null,
   "metadata": {},
   "outputs": [],
   "source": [
    "#vremenski atributi\n",
    "cols_to_change = ['VRIJEME_KREIRANJA', 'VRIJEME_ZAMRZAVANJA', 'DATUM_OD', 'DATUM_DO', 'VRIJEME', 'DATUM_STORNA']\n",
    "date_start = pd.to_datetime(\"2000-01-01 00:00:00\")\n",
    "data['DATUM_STORNA'].fillna(0, inplace=True)"
   ]
  },
  {
   "cell_type": "code",
   "execution_count": null,
   "metadata": {},
   "outputs": [],
   "source": [
    "for col in cols_to_change:\n",
    "    data[col] = pd.to_datetime(data[col])"
   ]
  },
  {
   "cell_type": "code",
   "execution_count": null,
   "metadata": {},
   "outputs": [],
   "source": [
    "for col in cols_to_change:\n",
    "    data['WEEKDAY_'+col] = data[col].dt.dayofweek\n",
    "    data['WEEK_'+col] = data[col].dt.week\n",
    "    data['MONTH_'+col] = data[col].dt.month\n",
    "    data[col] = (data[col]-date_start).astype('timedelta64[D]')"
   ]
  },
  {
   "cell_type": "code",
   "execution_count": null,
   "metadata": {},
   "outputs": [],
   "source": [
    "data = data.drop(['SIF_DRZAVE.1', 'WEEKDAY_DATUM_STORNA', 'WEEK_DATUM_STORNA', 'MONTH_DATUM_STORNA'], axis=1)\n",
    "data = data.dropna()"
   ]
  },
  {
   "cell_type": "code",
   "execution_count": null,
   "metadata": {},
   "outputs": [],
   "source": [
    "#ciklicki atributi\n",
    "cols_to_change = ['VRIJEME_KREIRANJA', 'VRIJEME_ZAMRZAVANJA', 'DATUM_OD', 'DATUM_DO', 'VRIJEME']\n",
    "for col in cols_to_change:\n",
    "    weekday = 'WEEKDAY_'+col\n",
    "    week = 'WEEK_'+col\n",
    "    month = 'MONTH_'+col\n",
    "    subset = [weekday, week, month]\n",
    "    for v in subset:\n",
    "        maxx = data[v].max()\n",
    "        data['SIN_'+v] = np.sin((2*np.pi*data[v])/maxx)\n",
    "        data['COS_'+v] = np.cos((2*np.pi*data[v])/maxx)"
   ]
  },
  {
   "cell_type": "code",
   "execution_count": null,
   "metadata": {},
   "outputs": [],
   "source": [
    "col_drop = ['WEEKDAY_VRIJEME_KREIRANJA', 'WEEK_VRIJEME_KREIRANJA', 'MONTH_VRIJEME_KREIRANJA', \n",
    "            'WEEKDAY_VRIJEME_ZAMRZAVANJA', 'WEEK_VRIJEME_ZAMRZAVANJA', 'MONTH_VRIJEME_ZAMRZAVANJA', \n",
    "            'WEEKDAY_DATUM_OD', 'WEEK_DATUM_OD', 'MONTH_DATUM_OD', 'WEEKDAY_DATUM_DO', \n",
    "            'WEEK_DATUM_DO', 'MONTH_DATUM_DO', 'WEEKDAY_VRIJEME', 'WEEK_VRIJEME', 'MONTH_VRIJEME',\n",
    "            'SIN_WEEKDAY_VRIJEME', 'COS_WEEKDAY_VRIJEME', 'SIN_WEEK_VRIJEME', 'COS_WEEK_VRIJEME', \n",
    "            'SIN_MONTH_VRIJEME', 'COS_MONTH_VRIJEME']\n",
    "data = data.drop(col_drop, axis=1)"
   ]
  },
  {
   "cell_type": "code",
   "execution_count": null,
   "metadata": {},
   "outputs": [],
   "source": [
    "cols_dummy = data[['OBRISANO', 'OBAVEZA_AKONTACIJE', 'STORNO', 'KANAL_ID', 'STATUS_REZERVACIJE']]\n",
    "prefixes = ['OBRISANO', 'OBAVEZA_AKONTACIJE', 'STORNO', 'KANAL', 'STAT_REZERVACIJE']\n",
    "data_dummy = pd.get_dummies(cols_dummy, prefix = prefixes, prefix_sep='_')"
   ]
  },
  {
   "cell_type": "code",
   "execution_count": null,
   "metadata": {},
   "outputs": [],
   "source": [
    "data=pd.merge(data, data_dummy, 'left', left_index=True, right_index=True)\n",
    "data = data.drop(['OBRISANO', 'OBAVEZA_AKONTACIJE', 'STORNO', 'KANAL_ID', 'STATUS_REZERVACIJE'], axis=1)\n",
    "data = data.drop(['STORNO_NE', 'OBAVEZA_AKONTACIJE_NE', 'OBRISANO_NE', 'KANAL', 'VRSTA_SOBE'], axis = 1)"
   ]
  },
  {
   "cell_type": "code",
   "execution_count": null,
   "metadata": {},
   "outputs": [],
   "source": [
    "data['DATUM_STORNA'] = data['DATUM_STORNA'].replace(-10957.0, 0.0)"
   ]
  },
  {
   "cell_type": "code",
   "execution_count": null,
   "metadata": {},
   "outputs": [],
   "source": [
    "data['TIP_SOBE'] = data['TIP_SOBE'].astype('category')\n",
    "data['SIF_DRZAVE'] = data['SIF_DRZAVE'].astype('category')\n",
    "cat_col = data.select_dtypes(['category']).columns\n",
    "data[cat_col] = data[cat_col].apply(lambda x: x.cat.codes)"
   ]
  },
  {
   "cell_type": "code",
   "execution_count": null,
   "metadata": {},
   "outputs": [],
   "source": [
    "data['DELTA_REZERVACIJA'] = data['DATUM_OD'] - data['VRIJEME_KREIRANJA']\n",
    "data['DELTA_REZERVACIJA'][data['DELTA_REZERVACIJA']<0.0]=0.0\n",
    "data['DELTA_STORNO_TOCH'] = data['DATUM_OD']-data['DATUM_STORNA']\n",
    "data['DELTA_STORNO_TOCH'][data['DATUM_STORNA']==0.0] = 0.0\n",
    "data = data[data['DELTA_STORNO_TOCH']>=0.0]"
   ]
  },
  {
   "cell_type": "code",
   "execution_count": null,
   "metadata": {},
   "outputs": [],
   "source": [
    "data['DELTA_STORNO_FROMREZ'] = data['DATUM_STORNA'] - data['VRIJEME_KREIRANJA']\n",
    "data['DELTA_STORNO_FROMREZ'][data['DATUM_STORNA']==0.0] = 0.0\n",
    "data = data[data['DELTA_STORNO_FROMREZ']>=0.0]"
   ]
  },
  {
   "cell_type": "code",
   "execution_count": null,
   "metadata": {},
   "outputs": [],
   "source": [
    "#kategorizacija izlaza\n",
    "bins = [-300.0, 0.0, 20.0, 50.0, 120.0, 170.0, 220.0, 300.0, 900.0]\n",
    "labels = [0, 1, 2, 3, 4, 5, 6, 7]\n",
    "data['Y_CAT_STORNO_TOCH'] = pd.cut(data['DELTA_STORNO_TOCH'], bins=bins, labels=labels, include_lowest=True)\n",
    "bins = [-300.0, 0.0, 30.0, 80.0, 130.0, 215.0, 290.0, 900.0]\n",
    "labels = [0, 1, 2, 3, 4, 5, 6]\n",
    "data['Y_CAT_STORNO_FROMREZ'] = pd.cut(data['DELTA_STORNO_FROMREZ'], bins=bins, labels=labels, include_lowest=True)"
   ]
  },
  {
   "cell_type": "code",
   "execution_count": null,
   "metadata": {},
   "outputs": [],
   "source": [
    "col_drop = ['VRIJEME_KREIRANJA', 'VRIJEME_ZAMRZAVANJA', 'DATUM_OD', 'DATUM_DO', 'DATUM_STORNA' ]\n",
    "data = data.drop(col_drop, axis=1)"
   ]
  },
  {
   "cell_type": "code",
   "execution_count": null,
   "metadata": {},
   "outputs": [],
   "source": [
    "#spasavanje dataseta\n",
    "data.to_csv('C:\\\\Users\\\\Aldo\\\\Documents\\\\fax\\\\Semestar 6\\\\Praksa\\\\final_dataset\\\\dataset.csv')"
   ]
  }
 ],
 "metadata": {
  "kernelspec": {
   "display_name": "Python 3",
   "language": "python",
   "name": "python3"
  },
  "language_info": {
   "codemirror_mode": {
    "name": "ipython",
    "version": 3
   },
   "file_extension": ".py",
   "mimetype": "text/x-python",
   "name": "python",
   "nbconvert_exporter": "python",
   "pygments_lexer": "ipython3",
   "version": "3.6.5"
  }
 },
 "nbformat": 4,
 "nbformat_minor": 2
}
