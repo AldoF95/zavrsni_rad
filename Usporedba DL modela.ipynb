{
 "cells": [
  {
   "cell_type": "code",
   "execution_count": null,
   "metadata": {
    "scrolled": true
   },
   "outputs": [],
   "source": [
    "import pandas as pd\n",
    "import sys\n",
    "import numpy as np\n",
    "import tensorflow as tf\n",
    "from tensorflow import keras\n",
    "from tensorflow.keras import backend\n",
    "from tensorflow.keras.models import Sequential\n",
    "from tensorflow.keras.layers import Dense, Dropout, Flatten, Conv1D, MaxPooling1D, LSTM, CuDNNLSTM\n",
    "import math"
   ]
  },
  {
   "cell_type": "code",
   "execution_count": null,
   "metadata": {},
   "outputs": [],
   "source": [
    "from sklearn.model_selection import StratifiedKFold, cross_val_score"
   ]
  },
  {
   "cell_type": "code",
   "execution_count": null,
   "metadata": {},
   "outputs": [],
   "source": [
    "n_cols = range(1, 65)\n",
    "data = pd.read_csv('C:\\\\Users\\\\Aldo\\\\Documents\\\\fax\\\\Semestar 6\\\\Praksa\\\\final_dataset\\\\dataset.csv', usecols= n_cols)\n",
    "data = data.sample(n=5000, random_state=1)"
   ]
  },
  {
   "cell_type": "code",
   "execution_count": null,
   "metadata": {},
   "outputs": [],
   "source": [
    "data_train = data.drop(['Y_CAT_STORNO_TOCH', 'DELTA_STORNO_FROMREZ',\n",
    "                  'DELTA_STORNO_TOCH',  'SIF_HOTELA', 'OBRISANO_DA', 'Y_CAT_STORNO_FROMREZ'], axis=1) \n",
    "data_train = data_train.sort_values(by=['GODINA'], ascending=False)"
   ]
  },
  {
   "cell_type": "code",
   "execution_count": null,
   "metadata": {},
   "outputs": [],
   "source": [
    "Xtrain = data_train.drop('STORNO_DA', axis=1)\n",
    "Ytrain = data_train.STORNO_DA "
   ]
  },
  {
   "cell_type": "code",
   "execution_count": null,
   "metadata": {},
   "outputs": [],
   "source": [
    "folds = StratifiedKFold(n_splits=10, shuffle=True, random_state=1)\n",
    "opt = keras.optimizers.Adam(lr=0.001, decay=1e-6)"
   ]
  },
  {
   "cell_type": "code",
   "execution_count": null,
   "metadata": {
    "scrolled": true
   },
   "outputs": [],
   "source": [
    "cvscores= []\n",
    "f = folds.get_n_splits()\n",
    "with tf.Session(config=tf.ConfigProto(intra_op_parallelism_threads=16)) as sess:\n",
    "    backend.set_session(sess)\n",
    "    for train, test in folds.split(Xtrain, Ytrain):\n",
    "        print(f)\n",
    "        print('*************************************************************************************************')\n",
    "        X_train, X_test = Xtrain.iloc[train], Xtrain.iloc[test]\n",
    "        Y_train, Y_test = Ytrain.iloc[train], Ytrain.iloc[test]\n",
    "\n",
    "        #DNN\n",
    "        model = Sequential([\n",
    "        Dense(512, activation='relu', input_shape=(57,)),\n",
    "        Dropout(0.2),\n",
    "        Dense(256, activation='relu'),\n",
    "        Dense(128, activation='relu'),\n",
    "        Dropout(0.2),\n",
    "        Dense(64, activation='relu'),\n",
    "        Dense(8, activation='relu'),\n",
    "        Dense(1, activation='sigmoid'),\n",
    "        ]) \n",
    "        model.compile(optimizer=opt, loss='binary_crossentropy', metrics=['accuracy'])\n",
    "        model.fit(X_train, Y_train, epochs=20)\n",
    "\n",
    "        scores = model.evaluate(X_test, Y_test)\n",
    "        cvscores.append(('DNN', scores[1]))\n",
    "\n",
    "        #CNN\n",
    "        X_train = X_train.values.tolist()\n",
    "        X_test = X_test.values.tolist()\n",
    "        X_train = np.reshape(X_train, (1, 57, np.shape(X_train)[0])).T\n",
    "        X_test = np.reshape(X_test, (1, 57, np.shape(X_test)[0])).T\n",
    "\n",
    "        model = Sequential([\n",
    "            Conv1D(filters=8, kernel_size=2, activation='relu', input_shape=(57,1)),\n",
    "            MaxPooling1D(pool_size=2),\n",
    "            Conv1D(filters=3, kernel_size=2, activation='relu'),\n",
    "            MaxPooling1D(pool_size=2),\n",
    "            Dropout(0.2),\n",
    "            Flatten(),\n",
    "            Dense(32, activation='relu'),\n",
    "            Dense(16, activation='relu'),\n",
    "            Dropout(0.2),\n",
    "            Dense(1, activation='sigmoid')\n",
    "        ])\n",
    "        model.compile(optimizer=opt, loss='binary_crossentropy', metrics=['accuracy'])\n",
    "        model.fit(X_train, Y_train, epochs=20)\n",
    "\n",
    "        scores = model.evaluate(X_test, Y_test)\n",
    "        cvscores.append(('CNN', scores[1]))\n",
    "\n",
    "        #RNN\n",
    "        model = Sequential([\n",
    "            LSTM(256, input_shape=(57, 1), activation='relu', return_sequences=True),\n",
    "            Dropout(0.2),\n",
    "            LSTM(128, activation='relu'),\n",
    "            Dropout(0.2),\n",
    "            Dense(32, activation='relu'),\n",
    "            Dropout(0.2),\n",
    "            Dense(16, activation='relu'),\n",
    "            Dense(1, activation='sigmoid')\n",
    "        ])\n",
    "        model.compile(optimizer=opt, loss='binary_crossentropy', metrics=['accuracy'])\n",
    "        model.fit(X_train, Y_train, epochs=1)\n",
    "\n",
    "        scores = model.evaluate(X_test, Y_test)\n",
    "        cvscores.append(('RNN', scores[1]))\n",
    "\n",
    "        f -= 1"
   ]
  },
  {
   "cell_type": "code",
   "execution_count": null,
   "metadata": {},
   "outputs": [],
   "source": [
    "scores_df = pd.DataFrame(cvscores, columns=['model', 'score'])"
   ]
  },
  {
   "cell_type": "code",
   "execution_count": null,
   "metadata": {},
   "outputs": [],
   "source": [
    "df = []\n",
    "for m in ['DNN', 'CNN', 'RNN']:\n",
    "    s = np.mean(scores_df['score'][scores_df['model']==m])\n",
    "    std = np.std(scores_df['score'][scores_df['model']==m])\n",
    "    df.append((m,s,std))"
   ]
  },
  {
   "cell_type": "code",
   "execution_count": null,
   "metadata": {},
   "outputs": [],
   "source": [
    "scores = pd.DataFrame(df, columns=['model', 'score', 'std'])\n",
    "scores"
   ]
  }
 ],
 "metadata": {
  "kernelspec": {
   "display_name": "Python 3",
   "language": "python",
   "name": "python3"
  },
  "language_info": {
   "codemirror_mode": {
    "name": "ipython",
    "version": 3
   },
   "file_extension": ".py",
   "mimetype": "text/x-python",
   "name": "python",
   "nbconvert_exporter": "python",
   "pygments_lexer": "ipython3",
   "version": "3.6.5"
  }
 },
 "nbformat": 4,
 "nbformat_minor": 2
}
