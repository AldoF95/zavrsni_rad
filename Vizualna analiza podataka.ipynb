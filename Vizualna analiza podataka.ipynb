{
 "cells": [
  {
   "cell_type": "code",
   "execution_count": null,
   "metadata": {},
   "outputs": [],
   "source": [
    "import pandas as pd\n",
    "from datetime import datetime as dt\n",
    "import matplotlib.pyplot as plt\n",
    "import seaborn as sns\n",
    "%matplotlib inline"
   ]
  },
  {
   "cell_type": "code",
   "execution_count": null,
   "metadata": {},
   "outputs": [],
   "source": [
    "n_cols = range(1, 50)\n",
    "data = pd.read_csv('C:\\\\Users\\\\Aldo\\\\Documents\\\\fax\\\\Semestar 6\\\\Praksa\\\\dataset_categories.csv', usecols= n_cols)"
   ]
  },
  {
   "cell_type": "code",
   "execution_count": null,
   "metadata": {},
   "outputs": [],
   "source": [
    "hotels_list = data['SIF_HOTELA'].unique()\n",
    "#postotak brisanja po hotelu\n",
    "storno_ratio = []\n",
    "\n",
    "for sifra in hotels_list:\n",
    "    l = []\n",
    "    d = data[data['SIF_HOTELA']==sifra]\n",
    "    ratio_sve = d['STORNO_DA'].count()\n",
    "    ratio_da = d[data['STORNO_DA']==1.0].count()\n",
    "    ratio = (ratio_da[0]/ratio_sve)*100\n",
    "    l.append(sifra)\n",
    "    l.append(ratio_sve)\n",
    "    l.append(ratio_da[0])\n",
    "    l.append(ratio)\n",
    "    storno_ratio.append(l)\n",
    "cancel = pd.DataFrame(data= storno_ratio, columns=['SIFRA_HOTELA', 'STORNO', 'DA_STORNO', 'RATIO']) "
   ]
  },
  {
   "cell_type": "code",
   "execution_count": null,
   "metadata": {
    "scrolled": true
   },
   "outputs": [],
   "source": [
    "cancel = cancel[cancel['SIFRA_HOTELA']!=37.0]\n",
    "cancel = cancel[cancel['SIFRA_HOTELA']!=0.0]\n",
    "cancel = cancel.sort_values(by=['SIFRA_HOTELA'])"
   ]
  },
  {
   "cell_type": "code",
   "execution_count": null,
   "metadata": {},
   "outputs": [],
   "source": [
    "hotels_codes = ['H1','H2','H3','H4','H5','H6','H7','H8','H9','H10','H11','H12','H13','H14','H15','H16','H17','H18','H19','H20','H21','H22','H23','H24','H25']\n",
    "cancel['HOTEL_CODE'] = hotels_codes\n",
    "a = cancel.plot(x = 'HOTEL_CODE', \n",
    "                y= 'RATIO', \n",
    "                kind = 'bar', \n",
    "                color='blue', \n",
    "                alpha= 0.5, \n",
    "                figsize=(10, 8), \n",
    "                fontsize=14)\n",
    "a.hlines(cancel['RATIO'].mean(), xmax=100, xmin = -10, color = 'red', linestyles='dashed' )\n",
    "a.set_xlabel('HOTELS', fontsize=16)\n",
    "a.set_ylabel('RATIO', fontsize=16)\n",
    "a.legend(['AVERAGE', 'RATIO'], fontsize=12)\n",
    "fig = a.get_figure()\n",
    "fig.savefig('C:\\\\Users\\\\Aldo\\\\Documents\\\\fax\\\\Semestar 6\\\\Praksa\\\\cancel_ratio.pdf')"
   ]
  },
  {
   "cell_type": "code",
   "execution_count": null,
   "metadata": {},
   "outputs": [],
   "source": [
    "year_list = [2016, 2017, 2018]\n",
    "year_ratio = []\n",
    "#postotak brisanja po godini\n",
    "for y in year_list:\n",
    "    l = []\n",
    "    d = data[data['GODINA']==y]\n",
    "    x = d[d['STORNO_DA']==1.0].count()\n",
    "    r = (x/d['STORNO_DA'].count())*100\n",
    "    l.append(y)\n",
    "    l.append(r[0])\n",
    "    year_ratio.append(l)\n",
    "\n",
    "year_r = pd.DataFrame(year_ratio, columns=['YEAR', 'CANCELLATION_RATE'])"
   ]
  },
  {
   "cell_type": "code",
   "execution_count": null,
   "metadata": {},
   "outputs": [],
   "source": [
    "a = year_r.plot(x='YEAR', \n",
    "                y='CANCELLATION_RATE', \n",
    "                kind='bar', \n",
    "                color='blue', \n",
    "                alpha= 0.5, \n",
    "                figsize=(10, 8), \n",
    "                fontsize=14)\n",
    "a.hlines(year_r['CANCELLATION_RATE'].mean(), \n",
    "         xmax=100, \n",
    "         xmin = -10, \n",
    "         color = 'red', \n",
    "         linestyles='dashed' )\n",
    "a.set_xlabel('YEAR', fontsize=16)\n",
    "a.set_ylabel('CANCELLATION_RATIO', fontsize=16)\n",
    "a.set_ylim(0, 40)\n",
    "a.legend(['AVERAGE', 'CANCELLATION_RATIO'], fontsize=12)\n",
    "fig = a.get_figure()\n",
    "fig.savefig('C:\\\\Users\\\\Aldo\\\\Documents\\\\fax\\\\Semestar 6\\\\Praksa\\\\cancel_ratio_per_year.pdf')"
   ]
  },
  {
   "cell_type": "code",
   "execution_count": null,
   "metadata": {},
   "outputs": [],
   "source": [
    "data_plot = data[['DELTA_REZERVACIJA', 'DELTA_STORNA', 'DELTA_DO_STORNA']]\n",
    "#usporedba brisanja sa broj dana rezervacije unaprijed"
   ]
  },
  {
   "cell_type": "code",
   "execution_count": null,
   "metadata": {},
   "outputs": [],
   "source": [
    "plt.figure(figsize = (15, 10))\n",
    "plt.hist(data_plot['DELTA_REZERVACIJA'], \n",
    "         bins = 450, range=(1, 450), \n",
    "         label='RESERVATIONS', \n",
    "         alpha = 0.5, log=True)\n",
    "plt.hist(data_plot['DELTA_STORNA'], \n",
    "         bins = 450, \n",
    "         range=(1, 450), \n",
    "         label = 'CANCELLATIONS', \n",
    "         color = 'b', \n",
    "         alpha = 0.8, \n",
    "         log=True)\n",
    "plt.legend(fontsize=12)\n",
    "plt.xlabel('DAYS', fontsize=16)\n",
    "plt.xticks(fontsize=14)\n",
    "plt.savefig('C:\\\\Users\\\\Aldo\\\\Documents\\\\fax\\\\Semestar 6\\\\Praksa\\\\cancellations_reservations.pdf')\n",
    "plt.show()"
   ]
  }
 ],
 "metadata": {
  "kernelspec": {
   "display_name": "Python 3",
   "language": "python",
   "name": "python3"
  },
  "language_info": {
   "codemirror_mode": {
    "name": "ipython",
    "version": 3
   },
   "file_extension": ".py",
   "mimetype": "text/x-python",
   "name": "python",
   "nbconvert_exporter": "python",
   "pygments_lexer": "ipython3",
   "version": "3.6.5"
  }
 },
 "nbformat": 4,
 "nbformat_minor": 2
}
