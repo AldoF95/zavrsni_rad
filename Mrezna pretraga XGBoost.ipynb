{
 "cells": [
  {
   "cell_type": "code",
   "execution_count": null,
   "metadata": {},
   "outputs": [],
   "source": [
    "import pandas as pd\n",
    "import numpy as np\n",
    "from xgboost import XGBClassifier\n",
    "from sklearn.ensemble import GradientBoostingClassifier\n",
    "from sklearn.metrics import classification_report, accuracy_score, roc_curve, auc\n",
    "from sklearn.model_selection import cross_validate, StratifiedKFold\n",
    "from collections import namedtuple\n",
    "import itertools\n",
    "import math"
   ]
  },
  {
   "cell_type": "code",
   "execution_count": null,
   "metadata": {},
   "outputs": [],
   "source": [
    "n_cols = range(1, 65)\n",
    "data = pd.read_csv('C:\\\\Users\\\\Aldo\\\\Documents\\\\fax\\\\Semestar 6\\\\Praksa\\\\final_dataset\\\\dataset.csv', usecols= n_cols)"
   ]
  },
  {
   "cell_type": "code",
   "execution_count": null,
   "metadata": {},
   "outputs": [],
   "source": [
    "fraction = 0.1\n",
    "dataset = data.sample(n=int(data.shape[0]*fraction), random_state=1)"
   ]
  },
  {
   "cell_type": "code",
   "execution_count": null,
   "metadata": {},
   "outputs": [],
   "source": [
    "data_train = dataset.drop(['Y_CAT_STORNO_TOCH', 'DELTA_STORNO_FROMREZ',\n",
    "                  'DELTA_STORNO_TOCH', 'STORNO_DA',  'SIF_HOTELA', 'OBRISANO_DA'], axis=1) "
   ]
  },
  {
   "cell_type": "code",
   "execution_count": null,
   "metadata": {},
   "outputs": [],
   "source": [
    "Ytrain = data_train.Y_CAT_STORNO_FROMREZ\n",
    "Xtrain = data_train.drop('Y_CAT_STORNO_FROMREZ', axis=1)"
   ]
  },
  {
   "cell_type": "code",
   "execution_count": null,
   "metadata": {},
   "outputs": [],
   "source": [
    "#params\n",
    "LR = [0.1] # learning rate\n",
    "EST = [5000] # n. estimators\n",
    "DEPTH = [4] # max depth\n",
    "res = []"
   ]
  },
  {
   "cell_type": "code",
   "execution_count": null,
   "metadata": {},
   "outputs": [],
   "source": [
    "kfold = StratifiedKFold(n_splits=10, random_state=7)\n",
    "scoring = [\"precision_weighted\", \"recall_weighted\", \"f1_weighted\"]\n",
    "Result = namedtuple(\"Result\", [\"learning_rate\", \"estimators\", \"depth\", \"precision\", \"recall\", \"f1\"])"
   ]
  },
  {
   "cell_type": "code",
   "execution_count": null,
   "metadata": {},
   "outputs": [],
   "source": [
    "for l, e, d in itertool.product(LR, EST, DEPTH):\n",
    "    model = XGBClassifier(learning_rate =l,\n",
    "                          n_estimators=e,\n",
    "                          max_depth=d,\n",
    "                          subsample=1,\n",
    "                          objective='multi:softprob',\n",
    "                          seed=10,\n",
    "                          verbosity = 2)\n",
    "    #broj kategorija (potrebno za softmax)\n",
    "    xgb_param = model.get_xgb_params()\n",
    "    xgb_param['num_class'] = 7\n",
    "    \n",
    "    results = cross_validate(model, Xtrain, Ytrain, scoring=scoring, cv=10)\n",
    "    \n",
    "    r = Result(l, \n",
    "               e, \n",
    "               d, \n",
    "               results['precision_weighted'].mean(), \n",
    "               results['recall_weighted'].mean(), \n",
    "               results['f1_weighted'].mean())\n",
    "    res.append(r)           \n"
   ]
  },
  {
   "cell_type": "code",
   "execution_count": null,
   "metadata": {},
   "outputs": [],
   "source": [
    "data_exit = pd.DataFrame(res)\n",
    "data_exit.to_csv('C:\\\\Users\\\\Aldo\\\\Documents\\\\fax\\\\Semestar 6\\\\Praksa\\\\final_dataset\\\\grid_search.csv')"
   ]
  }
 ],
 "metadata": {
  "kernelspec": {
   "display_name": "Python 3",
   "language": "python",
   "name": "python3"
  },
  "language_info": {
   "codemirror_mode": {
    "name": "ipython",
    "version": 3
   },
   "file_extension": ".py",
   "mimetype": "text/x-python",
   "name": "python",
   "nbconvert_exporter": "python",
   "pygments_lexer": "ipython3",
   "version": "3.6.5"
  }
 },
 "nbformat": 4,
 "nbformat_minor": 2
}
