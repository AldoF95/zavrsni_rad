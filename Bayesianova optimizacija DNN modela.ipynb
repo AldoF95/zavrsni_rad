{
 "cells": [
  {
   "cell_type": "code",
   "execution_count": null,
   "metadata": {
    "scrolled": true
   },
   "outputs": [],
   "source": [
    "import pandas as pd\n",
    "import numpy as np\n",
    "import tensorflow as tf\n",
    "from tensorflow import keras\n",
    "from tensorflow.keras.models import Sequential\n",
    "from tensorflow.keras.layers import Dense, Dropout\n",
    "from sklearn.model_selection import StratifiedKFold, train_test_split\n",
    "from bayes_opt import BayesianOptimization as bo\n",
    "from tensorflow.keras import backend\n",
    "import math, datetime\n",
    "import itertools\n",
    "%matplotlib inline"
   ]
  },
  {
   "cell_type": "code",
   "execution_count": null,
   "metadata": {},
   "outputs": [],
   "source": [
    "n_cols = range(1, 65)\n",
    "data = pd.read_csv('C:\\\\Users\\\\Aldo\\\\Documents\\\\fax\\\\Semestar 6\\\\Praksa\\\\final_dataset\\\\dataset.csv', usecols= n_cols)"
   ]
  },
  {
   "cell_type": "code",
   "execution_count": null,
   "metadata": {},
   "outputs": [],
   "source": [
    "fraction = 0.2\n",
    "dataset = data.sample(n=int(data.shape[0]*fraction), random_state=1)"
   ]
  },
  {
   "cell_type": "code",
   "execution_count": null,
   "metadata": {},
   "outputs": [],
   "source": [
    "data_train = dataset.drop(['Y_CAT_STORNO_TOCH', 'DELTA_STORNO_FROMREZ',\n",
    "                  'DELTA_STORNO_TOCH', 'STORNO_DA',  'SIF_HOTELA', 'OBRISANO_DA'], axis=1) "
   ]
  },
  {
   "cell_type": "code",
   "execution_count": null,
   "metadata": {},
   "outputs": [],
   "source": [
    "Ytrain = data_train.Y_CAT_STORNO_FROMREZ\n",
    "Xtrain = data_train.drop('Y_CAT_STORNO_FROMREZ', axis=1)"
   ]
  },
  {
   "cell_type": "code",
   "execution_count": null,
   "metadata": {},
   "outputs": [],
   "source": [
    "X_train, X_test, Y_train, Y_test = train_test_split(Xtrain, Ytrain, test_size=0.2, random_state=1)\n",
    "Y_train = keras.utils.to_categorical(Y_train)\n",
    "Y_test = keras.utils.to_categorical(Y_test)"
   ]
  },
  {
   "cell_type": "code",
   "execution_count": null,
   "metadata": {},
   "outputs": [],
   "source": [
    "def model_function(dropout_rate=0.5):\n",
    "    model = Sequential()\n",
    "    model.add(Dense(512, input_shape=(57,), activation='relu'))\n",
    "    model.add(Dropout(dropout_rate))\n",
    "    model.add(Dense(256, activation='relu'))\n",
    "    model.add(Dropout(dropout_rate))\n",
    "    model.add(Dense(128, activation='relu'))\n",
    "    model.add(Dense(128, activation='relu'))\n",
    "    model.add(Dense(128, activation='relu'))\n",
    "    model.add(Dropout(dropout_rate))\n",
    "    model.add(Dense(32, activation='relu'))\n",
    "    model.add(Dense(7, activation='softmax'))\n",
    "    \n",
    "    return model"
   ]
  },
  {
   "cell_type": "code",
   "execution_count": null,
   "metadata": {},
   "outputs": [],
   "source": [
    "def fit_function(dropout_rate, learning_rate, epochs_rate, batch_rate):\n",
    "    model = model_function(dropout_rate)\n",
    "    opt = keras.optimizers.Adam(lr=learning_rate)\n",
    "    model.compile(optimizer=opt, loss='categorical_crossentropy', metrics=['accuracy'])\n",
    "    model.fit(X_train, Y_train, epochs=int(epochs_rate), batch_size=int(batch_rate))\n",
    "    scores = model.evaluate(X_test, Y_test)\n",
    "    \n",
    "    return scores[1]"
   ]
  },
  {
   "cell_type": "code",
   "execution_count": null,
   "metadata": {},
   "outputs": [],
   "source": [
    "param_bounds = {\n",
    "                'dropout_rate': (0.1, 0.3), \n",
    "                'learning_rate': (1e-9, 1e-4), \n",
    "                'epochs_rate':(5, 30), \n",
    "                'batch_rate':(80, 120)\n",
    "               }\n",
    "with tf.Session(config=tf.ConfigProto(intra_op_parallelism_threads=16)) as sess:\n",
    "    backend.set_session(sess)\n",
    "    optimizer = bo(f=fit_function, pbounds=param_bounds, verbose=2, random_state=1)\n",
    "    optimizer.maximize(init_points=15, n_iter=15)"
   ]
  },
  {
   "cell_type": "code",
   "execution_count": null,
   "metadata": {},
   "outputs": [],
   "source": [
    "optimizer.max"
   ]
  }
 ],
 "metadata": {
  "kernelspec": {
   "display_name": "Python 3",
   "language": "python",
   "name": "python3"
  },
  "language_info": {
   "codemirror_mode": {
    "name": "ipython",
    "version": 3
   },
   "file_extension": ".py",
   "mimetype": "text/x-python",
   "name": "python",
   "nbconvert_exporter": "python",
   "pygments_lexer": "ipython3",
   "version": "3.6.5"
  }
 },
 "nbformat": 4,
 "nbformat_minor": 2
}
