{
 "cells": [
  {
   "cell_type": "code",
   "execution_count": null,
   "metadata": {},
   "outputs": [],
   "source": [
    "import pandas as pd\n",
    "from xgboost import XGBClassifier\n",
    "from sklearn.model_selection import cross_val_score\n",
    "from sklearn import tree\n",
    "from sklearn.svm import SVC, LinearSVC\n",
    "from sklearn import preprocessing\n",
    "from sklearn.ensemble import GradientBoostingClassifier\n",
    "from sklearn.linear_model import LogisticRegression\n",
    "from sklearn.exceptions import ConvergenceWarning\n",
    "import sys\n",
    "import numpy as np\n",
    "from collections import namedtuple\n",
    "from tqdm import tqdm\n",
    "import warnings"
   ]
  },
  {
   "cell_type": "code",
   "execution_count": null,
   "metadata": {},
   "outputs": [],
   "source": [
    "cols = range(1,47)\n",
    "data = pd.read_csv('C:\\\\Users\\\\Aldo\\\\Documents\\\\fax\\\\Semestar 6\\\\Praksa\\\\sample_regresion_NEW.csv', usecols=cols)\n",
    "data = data.drop(['OBRISANO_NE', 'OBAVEZA_AKONTACIJE_NE', 'STORNO_NE', 'DATUM_STORNA', 'DANI_DATUM_STORNA'], axis=1)\n",
    "data = data.sample(n=5000, random_state=1)"
   ]
  },
  {
   "cell_type": "code",
   "execution_count": null,
   "metadata": {},
   "outputs": [],
   "source": [
    "dataset = data.copy()\n",
    "X = dataset.drop(columns=[\"STORNO_DA\"])\n",
    "y = dataset.STORNO_DA"
   ]
  },
  {
   "cell_type": "code",
   "execution_count": null,
   "metadata": {},
   "outputs": [],
   "source": [
    "score_data = []"
   ]
  },
  {
   "cell_type": "code",
   "execution_count": null,
   "metadata": {},
   "outputs": [],
   "source": [
    "class result:\n",
    "    iteration = int(0)\n",
    "    name = \"\"\n",
    "    complexity = int(0)\n",
    "    score = 0."
   ]
  },
  {
   "cell_type": "code",
   "execution_count": null,
   "metadata": {},
   "outputs": [],
   "source": [
    "def validate(clf, X, y, r):\n",
    "    scores = cross_val_score(clf, X, y, cv=10)\n",
    "    r.score, r.score_std = np.mean(scores), np.std(scores)"
   ]
  },
  {
   "cell_type": "code",
   "execution_count": null,
   "metadata": {},
   "outputs": [],
   "source": [
    "for random_state in range(1):\n",
    "    for i in tqdm(range(1, 40+1)):\n",
    "        r = result()\n",
    "        r.iteration = random_state\n",
    "        r.name = \"decision_tree\"\n",
    "        clf = tree.DecisionTreeClassifier(max_depth=i+1, random_state=random_state)\n",
    "        fit = clf.fit(X, y)\n",
    "        r.complexity = i\n",
    "        validate(clf, X, y, r)\n",
    "        score_data.append(r)\n",
    "        \n",
    "        clf = XGBClassifier(max_depth=i+1, seed=random_state)\n",
    "        r = result()\n",
    "        r.iteration = random_state\n",
    "        r.name = \"xgboost\"\n",
    "        r.complexity = i\n",
    "        validate(clf, X, y, r)\n",
    "        score_data.append(r)\n",
    "\n",
    "        clf = LogisticRegression(random_state=random_state)\n",
    "        r = result()\n",
    "        r.iteration = random_state\n",
    "        r.name = \"logistic-regression\"\n",
    "        r.complexity = i\n",
    "        validate(clf, X, y, r)\n",
    "        score_data.append(r)\n",
    "        \n",
    "        clf = GradientBoostingClassifier(n_estimators=i, random_state=random_state)\n",
    "        r = result()\n",
    "        r.iteration = random_state\n",
    "        r.name = \"gradient_boosting\"\n",
    "        r.complexity = i\n",
    "        validate(clf, X, y, r)\n",
    "        score_data.append(r)\n",
    "\n",
    "        clf = LinearSVC(C=1, random_state=random_state)\n",
    "        r = result()\n",
    "        r.iteration = random_state\n",
    "        r.name = \"SVC-linear\"\n",
    "        r.complexity = i\n",
    "        validate(clf, X, y, r)\n",
    "        score_data.append(r)\n",
    "        \n",
    "        clf = SVC(C=i, kernel=\"rbf\", gamma='auto', random_state=random_state)\n",
    "        r = result()\n",
    "        r.iteration = random_state\n",
    "        r.name = \"SVC-rbf\"\n",
    "        r.complexity = i\n",
    "        validate(clf, X, y, r)\n",
    "        score_data.append(r)\n"
   ]
  },
  {
   "cell_type": "code",
   "execution_count": null,
   "metadata": {},
   "outputs": [],
   "source": [
    "df_scores = pd.DataFrame([vars(x) for x in score_data])\n",
    "df_scores.to_csv('C:\\\\Users\\\\Aldo\\\\Documents\\\\fax\\\\Semestar 6\\\\Praksa\\\\models_compare.csv', index=False)"
   ]
  },
  {
   "cell_type": "code",
   "execution_count": null,
   "metadata": {},
   "outputs": [],
   "source": [
    "#ispis srednjih vrijednosti i standardne devijacke za svaki model\n",
    "mean = df_scores['score'][df_scores['name']=='decision_tree'].mean()\n",
    "std = df_scores['score_std'][df_scores['name']=='decision_tree'].mean()\n",
    "print(\"decision_tree  --> mean: \"+str(mean)+\";  std: \"+str(std))"
   ]
  },
  {
   "cell_type": "code",
   "execution_count": null,
   "metadata": {},
   "outputs": [],
   "source": [
    "mean = df_scores['score'][df_scores['name']=='xgboost'].mean()\n",
    "std = df_scores['score_std'][df_scores['name']=='xgboost'].mean()\n",
    "print(\"xgboost  --> mean: \"+str(mean)+\";  std: \"+str(std))"
   ]
  },
  {
   "cell_type": "code",
   "execution_count": null,
   "metadata": {},
   "outputs": [],
   "source": [
    "mean = df_scores['score'][df_scores['name']=='gradient_boosting'].mean()\n",
    "std = df_scores['score_std'][df_scores['name']=='gradient_boosting'].mean()\n",
    "print(\"gradient_boosting  --> mean: \"+str(mean)+\";  std: \"+str(std))"
   ]
  },
  {
   "cell_type": "code",
   "execution_count": null,
   "metadata": {},
   "outputs": [],
   "source": [
    "mean = df_scores['score'][df_scores['name']=='SVC-linear'].mean()\n",
    "std = df_scores['score_std'][df_scores['name']=='SVC-linear'].mean()\n",
    "print(\"SVC-linear  --> mean: \"+str(mean)+\";  std: \"+str(std))"
   ]
  },
  {
   "cell_type": "code",
   "execution_count": null,
   "metadata": {},
   "outputs": [],
   "source": [
    "mean = df_scores['score'][df_scores['name']=='SVC-rbf'].mean()\n",
    "std = df_scores['score_std'][df_scores['name']=='SVC-rbf'].mean()\n",
    "print(\"SVC-rbf  --> mean: \"+str(mean)+\";  std: \"+str(std))"
   ]
  },
  {
   "cell_type": "code",
   "execution_count": null,
   "metadata": {},
   "outputs": [],
   "source": [
    "mean = df_scores['score'][df_scores['name']=='logistic-regression'].mean()\n",
    "std = df_scores['score_std'][df_scores['name']=='logistic-regression'].mean()\n",
    "print(\"logistic-regression  --> mean: \"+str(mean)+\";  std: \"+str(std))"
   ]
  }
 ],
 "metadata": {
  "kernelspec": {
   "display_name": "Python 3",
   "language": "python",
   "name": "python3"
  },
  "language_info": {
   "codemirror_mode": {
    "name": "ipython",
    "version": 3
   },
   "file_extension": ".py",
   "mimetype": "text/x-python",
   "name": "python",
   "nbconvert_exporter": "python",
   "pygments_lexer": "ipython3",
   "version": "3.6.5"
  }
 },
 "nbformat": 4,
 "nbformat_minor": 2
}
